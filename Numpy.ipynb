{
  "nbformat": 4,
  "nbformat_minor": 0,
  "metadata": {
    "colab": {
      "name": "Numpy",
      "version": "0.3.2",
      "provenance": [],
      "include_colab_link": true
    },
    "kernelspec": {
      "name": "python3",
      "display_name": "Python 3"
    }
  },
  "cells": [
    {
      "cell_type": "markdown",
      "metadata": {
        "id": "view-in-github",
        "colab_type": "text"
      },
      "source": [
        "<a href=\"https://colab.research.google.com/github/KrisSandy/TheMaskOfPython/blob/master/Numpy.ipynb\" target=\"_parent\"><img src=\"https://colab.research.google.com/assets/colab-badge.svg\" alt=\"Open In Colab\"/></a>"
      ]
    },
    {
      "metadata": {
        "id": "tIY09HlHPYnF",
        "colab_type": "text"
      },
      "cell_type": "markdown",
      "source": [
        "# Numpy"
      ]
    },
    {
      "metadata": {
        "id": "Ko3l_Izhv0rh",
        "colab_type": "text"
      },
      "cell_type": "markdown",
      "source": [
        "NumPy's main object is homogeneous multidimensional array. "
      ]
    },
    {
      "metadata": {
        "id": "7EWjbQCVPUyd",
        "colab_type": "code",
        "colab": {}
      },
      "cell_type": "code",
      "source": [
        "import numpy as np"
      ],
      "execution_count": 0,
      "outputs": []
    },
    {
      "metadata": {
        "id": "L633-GoBsRt8",
        "colab_type": "text"
      },
      "cell_type": "markdown",
      "source": [
        "### Creating Arrays"
      ]
    },
    {
      "metadata": {
        "id": "ND5xP6easjph",
        "colab_type": "text"
      },
      "cell_type": "markdown",
      "source": [
        "* Arrays can be created from a list or tuple"
      ]
    },
    {
      "metadata": {
        "id": "-WO_Q6yOscFT",
        "colab_type": "code",
        "outputId": "7b1c9222-4949-463a-9655-61ff86ebae82",
        "colab": {
          "base_uri": "https://localhost:8080/",
          "height": 70
        }
      },
      "cell_type": "code",
      "source": [
        "a = np.array([2,3,4])\n",
        "b = np.array([(1.5,2,3),(4,5,6)])\n",
        "print(a)\n",
        "print(b)"
      ],
      "execution_count": 0,
      "outputs": [
        {
          "output_type": "stream",
          "text": [
            "[2 3 4]\n",
            "[[1.5 2.  3. ]\n",
            " [4.  5.  6. ]]\n"
          ],
          "name": "stdout"
        }
      ]
    },
    {
      "metadata": {
        "id": "ho-fYwL7tMfu",
        "colab_type": "text"
      },
      "cell_type": "markdown",
      "source": [
        "* Type of the array can be specified at creation time"
      ]
    },
    {
      "metadata": {
        "id": "VQpdEWzstQbt",
        "colab_type": "code",
        "outputId": "52c1404c-dc40-4d9b-e668-5b858c52bd20",
        "colab": {
          "base_uri": "https://localhost:8080/",
          "height": 52
        }
      },
      "cell_type": "code",
      "source": [
        "c = np.array([[1,2], [3,4]], dtype='complex')\n",
        "c"
      ],
      "execution_count": 0,
      "outputs": [
        {
          "output_type": "execute_result",
          "data": {
            "text/plain": [
              "array([[1.+0.j, 2.+0.j],\n",
              "       [3.+0.j, 4.+0.j]])"
            ]
          },
          "metadata": {
            "tags": []
          },
          "execution_count": 34
        }
      ]
    },
    {
      "metadata": {
        "id": "dPr5Fq1etjZW",
        "colab_type": "text"
      },
      "cell_type": "markdown",
      "source": [
        "* **np.zeros**: creates an array full of zeros\n",
        "* **np.ones**: creates an array full of ones\n",
        "* **np.empty**: creates an array with random values\n",
        "\n",
        "*By default, the dtype of the created array is `float64`*"
      ]
    },
    {
      "metadata": {
        "id": "1z_ihZNct_D4",
        "colab_type": "code",
        "outputId": "d928aa54-cc78-45b6-b211-cc84715e4fd5",
        "colab": {
          "base_uri": "https://localhost:8080/",
          "height": 70
        }
      },
      "cell_type": "code",
      "source": [
        "np.zeros((3,4))"
      ],
      "execution_count": 0,
      "outputs": [
        {
          "output_type": "execute_result",
          "data": {
            "text/plain": [
              "array([[0., 0., 0., 0.],\n",
              "       [0., 0., 0., 0.],\n",
              "       [0., 0., 0., 0.]])"
            ]
          },
          "metadata": {
            "tags": []
          },
          "execution_count": 35
        }
      ]
    },
    {
      "metadata": {
        "id": "56XDJXX7uD42",
        "colab_type": "code",
        "outputId": "e7a14bd1-597d-49b1-e09c-5fe1dba69de0",
        "colab": {
          "base_uri": "https://localhost:8080/",
          "height": 141
        }
      },
      "cell_type": "code",
      "source": [
        "np.ones((2,3,4))"
      ],
      "execution_count": 0,
      "outputs": [
        {
          "output_type": "execute_result",
          "data": {
            "text/plain": [
              "array([[[1., 1., 1., 1.],\n",
              "        [1., 1., 1., 1.],\n",
              "        [1., 1., 1., 1.]],\n",
              "\n",
              "       [[1., 1., 1., 1.],\n",
              "        [1., 1., 1., 1.],\n",
              "        [1., 1., 1., 1.]]])"
            ]
          },
          "metadata": {
            "tags": []
          },
          "execution_count": 36
        }
      ]
    },
    {
      "metadata": {
        "id": "0c_9IuJpuN5t",
        "colab_type": "code",
        "outputId": "2830c83a-b036-4162-860d-cf265105a64c",
        "colab": {
          "base_uri": "https://localhost:8080/",
          "height": 52
        }
      },
      "cell_type": "code",
      "source": [
        "np.empty((2,3))"
      ],
      "execution_count": 0,
      "outputs": [
        {
          "output_type": "execute_result",
          "data": {
            "text/plain": [
              "array([[1.5, 2. , 3. ],\n",
              "       [4. , 5. , 6. ]])"
            ]
          },
          "metadata": {
            "tags": []
          },
          "execution_count": 37
        }
      ]
    },
    {
      "metadata": {
        "id": "zXvr_pR7unHR",
        "colab_type": "text"
      },
      "cell_type": "markdown",
      "source": [
        "* **np.arange**: to create an array with sequence numbers (analogous to range)"
      ]
    },
    {
      "metadata": {
        "id": "qAe1q8M_ux0a",
        "colab_type": "code",
        "outputId": "9195444a-75f6-4509-9318-81930e44fbb3",
        "colab": {
          "base_uri": "https://localhost:8080/",
          "height": 52
        }
      },
      "cell_type": "code",
      "source": [
        "print(np.arange(15))\n",
        "print(np.arange(10,20,2))"
      ],
      "execution_count": 0,
      "outputs": [
        {
          "output_type": "stream",
          "text": [
            "[ 0  1  2  3  4  5  6  7  8  9 10 11 12 13 14]\n",
            "[10 12 14 16 18]\n"
          ],
          "name": "stdout"
        }
      ]
    },
    {
      "metadata": {
        "id": "7ljJ_RuPvKgJ",
        "colab_type": "text"
      },
      "cell_type": "markdown",
      "source": [
        "* **np.linspace**: generates number of elements we want between the specified range and with equal spacing between numbers"
      ]
    },
    {
      "metadata": {
        "id": "n3qckxLmvfd2",
        "colab_type": "code",
        "outputId": "b2786b3c-c99d-448d-b7b8-fed1179d0406",
        "colab": {
          "base_uri": "https://localhost:8080/",
          "height": 52
        }
      },
      "cell_type": "code",
      "source": [
        "np.linspace(0,2,8)"
      ],
      "execution_count": 0,
      "outputs": [
        {
          "output_type": "execute_result",
          "data": {
            "text/plain": [
              "array([0.        , 0.28571429, 0.57142857, 0.85714286, 1.14285714,\n",
              "       1.42857143, 1.71428571, 2.        ])"
            ]
          },
          "metadata": {
            "tags": []
          },
          "execution_count": 39
        }
      ]
    },
    {
      "metadata": {
        "id": "Dn-DkS8xwO6r",
        "colab_type": "text"
      },
      "cell_type": "markdown",
      "source": [
        "### Array Properties"
      ]
    },
    {
      "metadata": {
        "id": "lcOtwEj3qje9",
        "colab_type": "text"
      },
      "cell_type": "markdown",
      "source": [
        "\n",
        "Dimentions of a NumPy array are called axes. \n",
        "\n",
        "* **ndarray.ndim**: number of axes of the array\n",
        "* **ndarray.shape**: dimensions of the array\n",
        "* **ndarray.size**: number of elements in the array, equal to product of the elements of `shape`\n",
        "* **ndarray.dtype**: type of the elements in the array\n",
        "* **ndarray.itemsize**: size of each element of the array"
      ]
    },
    {
      "metadata": {
        "id": "CzKQ9ppvqlrd",
        "colab_type": "code",
        "outputId": "80d69bab-aa34-404e-809c-7a9d48830507",
        "colab": {
          "base_uri": "https://localhost:8080/",
          "height": 141
        }
      },
      "cell_type": "code",
      "source": [
        "a = np.arange(15)\n",
        "print(\"Dimentions of array : {}\".format(a.ndim))\n",
        "a = a.reshape(3,5)\n",
        "print(\"Dimentions of array after reshape: {}\".format(a.ndim))\n",
        "print(\"Shape of array: {}\".format(a.shape))\n",
        "print(\"Size of array: {}\".format(a.size))\n",
        "print(\"Item size of array: {}\".format(a.itemsize))\n",
        "print(\"dtype of array: {}\".format(a.dtype))\n",
        "print(\"type of array: {}\".format(type(a)))\n"
      ],
      "execution_count": 0,
      "outputs": [
        {
          "output_type": "stream",
          "text": [
            "Dimentions of array : 1\n",
            "Dimentions of array after reshape: 2\n",
            "Shape of array: (3, 5)\n",
            "Size of array: 15\n",
            "Item size of array: 8\n",
            "dtype of array: int64\n",
            "type of array: <class 'numpy.ndarray'>\n"
          ],
          "name": "stdout"
        }
      ]
    },
    {
      "metadata": {
        "id": "N9Qxu_ABvHZW",
        "colab_type": "text"
      },
      "cell_type": "markdown",
      "source": [
        "### Basic Operations"
      ]
    },
    {
      "metadata": {
        "id": "nDJK1u3zrno6",
        "colab_type": "text"
      },
      "cell_type": "markdown",
      "source": [
        "Arthematic operators (+, -, **, * etc) are applied elementwise, and this will create a new array."
      ]
    },
    {
      "metadata": {
        "id": "jAyuOX4WsjIr",
        "colab_type": "code",
        "outputId": "e228bb15-b537-415c-95e7-e34bc8bae485",
        "colab": {
          "base_uri": "https://localhost:8080/",
          "height": 35
        }
      },
      "cell_type": "code",
      "source": [
        "a = np.array([10,20,30,40,50])\n",
        "a < 35"
      ],
      "execution_count": 0,
      "outputs": [
        {
          "output_type": "execute_result",
          "data": {
            "text/plain": [
              "array([ True,  True,  True, False, False])"
            ]
          },
          "metadata": {
            "tags": []
          },
          "execution_count": 3
        }
      ]
    },
    {
      "metadata": {
        "id": "EwJ1-w1Stc6G",
        "colab_type": "text"
      },
      "cell_type": "markdown",
      "source": [
        "* Matrix multiplication can be done using `@` operator or `np.dot`\n",
        "* type casting is only done in updward direction i.e. int to float, but downcasting is not done automatically. This behaviour is called upcasting"
      ]
    },
    {
      "metadata": {
        "id": "lBjtr1iCf1Yp",
        "colab_type": "text"
      },
      "cell_type": "markdown",
      "source": [
        "### Universal Functions"
      ]
    },
    {
      "metadata": {
        "id": "chaaFHNtvjn1",
        "colab_type": "text"
      },
      "cell_type": "markdown",
      "source": [
        "NumPy provides several mathematical functions such as sin, cos, exp, log. These functions produce an array as result.\n",
        "\n"
      ]
    },
    {
      "metadata": {
        "id": "5oKVSz02v2b6",
        "colab_type": "code",
        "outputId": "507330ad-908e-4c15-99fd-f3e7584b5079",
        "colab": {
          "base_uri": "https://localhost:8080/",
          "height": 35
        }
      },
      "cell_type": "code",
      "source": [
        "b = np.arange(12).reshape(3,4)\n",
        "b.sum()"
      ],
      "execution_count": 0,
      "outputs": [
        {
          "output_type": "execute_result",
          "data": {
            "text/plain": [
              "66"
            ]
          },
          "metadata": {
            "tags": []
          },
          "execution_count": 4
        }
      ]
    },
    {
      "metadata": {
        "id": "4FDos7nIwDE8",
        "colab_type": "text"
      },
      "cell_type": "markdown",
      "source": [
        "`axis` parameter can be used to apply an operation along the specific axis of an array"
      ]
    },
    {
      "metadata": {
        "id": "Y_mtyyEhv_n3",
        "colab_type": "code",
        "outputId": "3a950861-6912-4965-f247-556e8922b586",
        "colab": {
          "base_uri": "https://localhost:8080/",
          "height": 35
        }
      },
      "cell_type": "code",
      "source": [
        "b.sum(axis=0) # 0 -> column wise, 1 -> row wise"
      ],
      "execution_count": 0,
      "outputs": [
        {
          "output_type": "execute_result",
          "data": {
            "text/plain": [
              "array([12, 15, 18, 21])"
            ]
          },
          "metadata": {
            "tags": []
          },
          "execution_count": 5
        }
      ]
    },
    {
      "metadata": {
        "id": "vIwnyWckwj-a",
        "colab_type": "code",
        "outputId": "8dc3bc42-f6ac-42ad-ec05-e86268a5f30d",
        "colab": {
          "base_uri": "https://localhost:8080/",
          "height": 88
        }
      },
      "cell_type": "code",
      "source": [
        "print(b.cumsum())\n",
        "print(b.cumsum(axis=0))"
      ],
      "execution_count": 0,
      "outputs": [
        {
          "output_type": "stream",
          "text": [
            "[ 0  1  3  6 10 15 21 28 36 45 55 66]\n",
            "[[ 0  1  2  3]\n",
            " [ 4  6  8 10]\n",
            " [12 15 18 21]]\n"
          ],
          "name": "stdout"
        }
      ]
    },
    {
      "metadata": {
        "id": "h6rbzipkXpSr",
        "colab_type": "text"
      },
      "cell_type": "markdown",
      "source": [
        "#### Examples "
      ]
    },
    {
      "metadata": {
        "id": "hIxaF_UagVIp",
        "colab_type": "text"
      },
      "cell_type": "markdown",
      "source": [
        "\n",
        "Function | Usage\n",
        "--- | ---\n",
        "all | Test if all elements evaluate to True i.e. if zero is present or not\n",
        "any | Test if any elements evaluate to True i.e. if its all zeros\n",
        "apply_along_axis | Apply a function along the given axis\n",
        "apply_over_axis | Apply a function over multiple axis\n",
        "argmax | Returns the indices of the max value along an axis\n",
        "argmin | Returns the indices of the min value along an axis\n",
        "amax | Returns the max value of array\n",
        "meshgrid | Make a coordinate Matrix from coordinate Vector\n",
        "c_ | concatinates the arrays column wise\n",
        "ravel | flatten array\n"
      ]
    },
    {
      "metadata": {
        "id": "nRQa10NqSIrf",
        "colab_type": "code",
        "outputId": "b4c2279a-fe6f-47b5-fa90-b3554d8c5191",
        "colab": {
          "base_uri": "https://localhost:8080/",
          "height": 70
        }
      },
      "cell_type": "code",
      "source": [
        "print(np.all([-1, 4, 5]))\n",
        "print(np.all([-1, 4, 0]))\n",
        "print(np.any([[True, False], [False, False]]))"
      ],
      "execution_count": 0,
      "outputs": [
        {
          "output_type": "stream",
          "text": [
            "True\n",
            "False\n",
            "True\n"
          ],
          "name": "stdout"
        }
      ]
    },
    {
      "metadata": {
        "id": "FIckDjOz2y-t",
        "colab_type": "text"
      },
      "cell_type": "markdown",
      "source": [
        "Meshgrid produces coordinate matrix meaning, for every point in x and y, it produces (x, y)"
      ]
    },
    {
      "metadata": {
        "id": "tdOk_Ysy1NQt",
        "colab_type": "code",
        "outputId": "a843c433-15fd-4763-e31b-7e9c366a48b3",
        "colab": {
          "base_uri": "https://localhost:8080/",
          "height": 124
        }
      },
      "cell_type": "code",
      "source": [
        "x, y = np.meshgrid(np.array([1,2]), np.array([4,5]))\n",
        "print(x.ravel())\n",
        "print(y.ravel())\n",
        "z = np.c_[x.ravel(), y.ravel()]\n",
        "print(z)"
      ],
      "execution_count": 0,
      "outputs": [
        {
          "output_type": "stream",
          "text": [
            "[1 2 1 2]\n",
            "[4 4 5 5]\n",
            "[[1 4]\n",
            " [2 4]\n",
            " [1 5]\n",
            " [2 5]]\n"
          ],
          "name": "stdout"
        }
      ]
    },
    {
      "metadata": {
        "id": "AvD8iA4HX0jq",
        "colab_type": "text"
      },
      "cell_type": "markdown",
      "source": [
        "### Indexing, Slicing and Iterating"
      ]
    },
    {
      "metadata": {
        "id": "p9yO3e0dY5wS",
        "colab_type": "code",
        "outputId": "75e101b1-43f5-402d-c459-2db877ef4201",
        "colab": {
          "base_uri": "https://localhost:8080/",
          "height": 301
        }
      },
      "cell_type": "code",
      "source": [
        "a = np.arange(10) ** 2\n",
        "print(a)\n",
        "print(a[2:4])\n",
        "print(a[ : : -1]) # reversed array\n",
        "a[:6:2] = -100\n",
        "print(a)\n",
        "for i in a:\n",
        "    print(i**(1/2))"
      ],
      "execution_count": 0,
      "outputs": [
        {
          "output_type": "stream",
          "text": [
            "[ 0  1  4  9 16 25 36 49 64 81]\n",
            "[4 9]\n",
            "[81 64 49 36 25 16  9  4  1  0]\n",
            "[-100    1 -100    9 -100   25   36   49   64   81]\n",
            "nan\n",
            "1.0\n",
            "nan\n",
            "3.0\n",
            "nan\n",
            "5.0\n",
            "6.0\n",
            "7.0\n",
            "8.0\n",
            "9.0\n"
          ],
          "name": "stdout"
        },
        {
          "output_type": "stream",
          "text": [
            "/usr/local/lib/python3.6/dist-packages/ipykernel_launcher.py:8: RuntimeWarning: invalid value encountered in power\n",
            "  \n"
          ],
          "name": "stderr"
        }
      ]
    }
  ]
}