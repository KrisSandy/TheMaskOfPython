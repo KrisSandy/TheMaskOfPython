{
  "nbformat": 4,
  "nbformat_minor": 0,
  "metadata": {
    "colab": {
      "name": "Global vs Local",
      "version": "0.3.2",
      "provenance": [],
      "include_colab_link": true
    },
    "kernelspec": {
      "name": "python3",
      "display_name": "Python 3"
    }
  },
  "cells": [
    {
      "cell_type": "markdown",
      "metadata": {
        "id": "view-in-github",
        "colab_type": "text"
      },
      "source": [
        "<a href=\"https://colab.research.google.com/github/KrisSandy/TheMaskOfPython/blob/master/Global_vs_Local.ipynb\" target=\"_parent\"><img src=\"https://colab.research.google.com/assets/colab-badge.svg\" alt=\"Open In Colab\"/></a>"
      ]
    },
    {
      "metadata": {
        "id": "kOJTGT3n6RLw",
        "colab_type": "text"
      },
      "cell_type": "markdown",
      "source": [
        "# Global vs Local"
      ]
    },
    {
      "metadata": {
        "id": "W5oybWZo6VH9",
        "colab_type": "text"
      },
      "cell_type": "markdown",
      "source": [
        "Like most of the other programming languages, python check the variable in global space if its not available in local."
      ]
    },
    {
      "metadata": {
        "id": "Wzl9MIdY6WsB",
        "colab_type": "code",
        "outputId": "c8f98b61-e035-4c4d-b8c6-bea0e7b94c36",
        "colab": {
          "base_uri": "https://localhost:8080/",
          "height": 35
        }
      },
      "cell_type": "code",
      "source": [
        "def f():\n",
        "    print(s)\n",
        "\n",
        "s = 10\n",
        "f()"
      ],
      "execution_count": 0,
      "outputs": [
        {
          "output_type": "stream",
          "text": [
            "10\n"
          ],
          "name": "stdout"
        }
      ]
    },
    {
      "metadata": {
        "id": "mzPRWqAD7EhL",
        "colab_type": "text"
      },
      "cell_type": "markdown",
      "source": [
        "If a variable with same global name is defined, then its local instance is considered"
      ]
    },
    {
      "metadata": {
        "id": "-MS44JRs6tJX",
        "colab_type": "code",
        "outputId": "68e11429-0319-432f-c9d8-f5c3eab8f4bf",
        "colab": {
          "base_uri": "https://localhost:8080/",
          "height": 70
        }
      },
      "cell_type": "code",
      "source": [
        "def f():\n",
        "    s = 20\n",
        "    print(\"In function call : {}\".format(s))\n",
        "\n",
        "s = 10\n",
        "print(\"Before function call : {}\".format(s))\n",
        "f()\n",
        "print(\"After function call : {}\".format(s))"
      ],
      "execution_count": 0,
      "outputs": [
        {
          "output_type": "stream",
          "text": [
            "Before function call : 10\n",
            "In function call : 20\n",
            "After function call : 10\n"
          ],
          "name": "stdout"
        }
      ]
    },
    {
      "metadata": {
        "id": "o5hXtwke7euV",
        "colab_type": "text"
      },
      "cell_type": "markdown",
      "source": [
        "However, if the variabe is accessed before the assignment, then it will throw an error, because python assumes that we intend to use the local copy of the variable and not the global "
      ]
    },
    {
      "metadata": {
        "id": "GXOof3Ug7RRB",
        "colab_type": "code",
        "outputId": "7e0a4242-27c1-47e4-f3a1-fb5ca7ef1616",
        "colab": {
          "base_uri": "https://localhost:8080/",
          "height": 329
        }
      },
      "cell_type": "code",
      "source": [
        "def f():\n",
        "    print(s)\n",
        "    s = 20\n",
        "    print(s)\n",
        "    \n",
        "s = 10\n",
        "f()"
      ],
      "execution_count": 0,
      "outputs": [
        {
          "output_type": "error",
          "ename": "UnboundLocalError",
          "evalue": "ignored",
          "traceback": [
            "\u001b[0;31m---------------------------------------------------------------------------\u001b[0m",
            "\u001b[0;31mUnboundLocalError\u001b[0m                         Traceback (most recent call last)",
            "\u001b[0;32m<ipython-input-8-fefbf5ed8b9b>\u001b[0m in \u001b[0;36m<module>\u001b[0;34m()\u001b[0m\n\u001b[1;32m      5\u001b[0m \u001b[0;34m\u001b[0m\u001b[0m\n\u001b[1;32m      6\u001b[0m \u001b[0ms\u001b[0m \u001b[0;34m=\u001b[0m \u001b[0;36m10\u001b[0m\u001b[0;34m\u001b[0m\u001b[0;34m\u001b[0m\u001b[0m\n\u001b[0;32m----> 7\u001b[0;31m \u001b[0mf\u001b[0m\u001b[0;34m(\u001b[0m\u001b[0;34m)\u001b[0m\u001b[0;34m\u001b[0m\u001b[0;34m\u001b[0m\u001b[0m\n\u001b[0m",
            "\u001b[0;32m<ipython-input-8-fefbf5ed8b9b>\u001b[0m in \u001b[0;36mf\u001b[0;34m()\u001b[0m\n\u001b[1;32m      1\u001b[0m \u001b[0;32mdef\u001b[0m \u001b[0mf\u001b[0m\u001b[0;34m(\u001b[0m\u001b[0;34m)\u001b[0m\u001b[0;34m:\u001b[0m\u001b[0;34m\u001b[0m\u001b[0;34m\u001b[0m\u001b[0m\n\u001b[0;32m----> 2\u001b[0;31m     \u001b[0mprint\u001b[0m\u001b[0;34m(\u001b[0m\u001b[0ms\u001b[0m\u001b[0;34m)\u001b[0m\u001b[0;34m\u001b[0m\u001b[0;34m\u001b[0m\u001b[0m\n\u001b[0m\u001b[1;32m      3\u001b[0m     \u001b[0ms\u001b[0m \u001b[0;34m=\u001b[0m \u001b[0;36m20\u001b[0m\u001b[0;34m\u001b[0m\u001b[0;34m\u001b[0m\u001b[0m\n\u001b[1;32m      4\u001b[0m     \u001b[0mprint\u001b[0m\u001b[0;34m(\u001b[0m\u001b[0ms\u001b[0m\u001b[0;34m)\u001b[0m\u001b[0;34m\u001b[0m\u001b[0;34m\u001b[0m\u001b[0m\n\u001b[1;32m      5\u001b[0m \u001b[0;34m\u001b[0m\u001b[0m\n",
            "\u001b[0;31mUnboundLocalError\u001b[0m: local variable 's' referenced before assignment"
          ]
        }
      ]
    },
    {
      "metadata": {
        "id": "3CAArBjO7sy-",
        "colab_type": "text"
      },
      "cell_type": "markdown",
      "source": [
        "If we want to use the global copy, then use 'global' keyword"
      ]
    },
    {
      "metadata": {
        "id": "jMb8_Ecq7zhz",
        "colab_type": "code",
        "outputId": "99f90d04-ae22-4da8-a1de-2d8cf7ebe3db",
        "colab": {
          "base_uri": "https://localhost:8080/",
          "height": 52
        }
      },
      "cell_type": "code",
      "source": [
        "def f():\n",
        "    global s\n",
        "    print(s)\n",
        "    s = 20\n",
        "    print(s)\n",
        "    \n",
        "s = 10\n",
        "f()"
      ],
      "execution_count": 0,
      "outputs": [
        {
          "output_type": "stream",
          "text": [
            "10\n",
            "20\n"
          ],
          "name": "stdout"
        }
      ]
    }
  ]
}