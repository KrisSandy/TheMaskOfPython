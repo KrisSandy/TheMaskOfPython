{
  "nbformat": 4,
  "nbformat_minor": 0,
  "metadata": {
    "colab": {
      "name": "Generators",
      "version": "0.3.2",
      "provenance": [],
      "include_colab_link": true
    },
    "kernelspec": {
      "name": "python3",
      "display_name": "Python 3"
    }
  },
  "cells": [
    {
      "cell_type": "markdown",
      "metadata": {
        "id": "view-in-github",
        "colab_type": "text"
      },
      "source": [
        "<a href=\"https://colab.research.google.com/github/KrisSandy/TheMaskOfPython/blob/master/Generators.ipynb\" target=\"_parent\"><img src=\"https://colab.research.google.com/assets/colab-badge.svg\" alt=\"Open In Colab\"/></a>"
      ]
    },
    {
      "metadata": {
        "id": "3M31v3ycOmg0",
        "colab_type": "text"
      },
      "cell_type": "markdown",
      "source": [
        "# Generators"
      ]
    },
    {
      "metadata": {
        "id": "1FhBS3coOpF-",
        "colab_type": "text"
      },
      "cell_type": "markdown",
      "source": [
        "Generators are simplification of code as a results of generator function and generator expression\n",
        "\n",
        "A generator function doesn'tperform the calculation (functionality) until required, hence it avoids unnecessary storage and CPU. This performance improvement is because of the lazy evaluation.\n"
      ]
    },
    {
      "metadata": {
        "id": "cx0C6CWxQhau",
        "colab_type": "text"
      },
      "cell_type": "markdown",
      "source": [
        "#### Normal Code for generating doubles"
      ]
    },
    {
      "metadata": {
        "id": "h_0vgKKeQHpB",
        "colab_type": "code",
        "colab": {}
      },
      "cell_type": "code",
      "source": [
        "def doubles(n):\n",
        "  res = list()\n",
        "  for i in range(n):\n",
        "    res.append(i*2)\n",
        "  return res"
      ],
      "execution_count": 0,
      "outputs": []
    },
    {
      "metadata": {
        "id": "Tr5SJkFYQZWB",
        "colab_type": "code",
        "outputId": "9fe9611d-d152-46b2-c118-1d7f3254869f",
        "colab": {
          "base_uri": "https://localhost:8080/",
          "height": 54
        }
      },
      "cell_type": "code",
      "source": [
        "doubles(20)"
      ],
      "execution_count": 0,
      "outputs": [
        {
          "output_type": "execute_result",
          "data": {
            "text/plain": [
              "[0, 2, 4, 6, 8, 10, 12, 14, 16, 18, 20, 22, 24, 26, 28, 30, 32, 34, 36, 38]"
            ]
          },
          "metadata": {
            "tags": []
          },
          "execution_count": 3
        }
      ]
    },
    {
      "metadata": {
        "id": "WCRcG60CQndD",
        "colab_type": "text"
      },
      "cell_type": "markdown",
      "source": [
        "#### Using generators"
      ]
    },
    {
      "metadata": {
        "id": "tJ6M4GDlRAw_",
        "colab_type": "text"
      },
      "cell_type": "markdown",
      "source": [
        "Below code returns a generator object, and doesn't perform any calculation unless required"
      ]
    },
    {
      "metadata": {
        "id": "7LZ-1a7CQqB3",
        "colab_type": "code",
        "colab": {}
      },
      "cell_type": "code",
      "source": [
        "def doubles(n):\n",
        "  for i in range(n):\n",
        "    yield i*2"
      ],
      "execution_count": 0,
      "outputs": []
    },
    {
      "metadata": {
        "id": "dFC-G45OQ9hF",
        "colab_type": "code",
        "outputId": "eb072839-f8ea-489d-ee64-a199122c79f5",
        "colab": {
          "base_uri": "https://localhost:8080/",
          "height": 34
        }
      },
      "cell_type": "code",
      "source": [
        "res = doubles(20)\n",
        "res"
      ],
      "execution_count": 0,
      "outputs": [
        {
          "output_type": "execute_result",
          "data": {
            "text/plain": [
              "<generator object doubles at 0x7f1a76272ba0>"
            ]
          },
          "metadata": {
            "tags": []
          },
          "execution_count": 6
        }
      ]
    },
    {
      "metadata": {
        "id": "kBeeMDGmRObb",
        "colab_type": "text"
      },
      "cell_type": "markdown",
      "source": [
        "To extract a value from above function"
      ]
    },
    {
      "metadata": {
        "id": "4eoR8G4cRRDX",
        "colab_type": "code",
        "outputId": "d5e43d91-0327-4234-9da1-d60f1be0f10a",
        "colab": {
          "base_uri": "https://localhost:8080/",
          "height": 52
        }
      },
      "cell_type": "code",
      "source": [
        "print(next(res))\n",
        "print(next(res))"
      ],
      "execution_count": 0,
      "outputs": [
        {
          "output_type": "stream",
          "text": [
            "2\n",
            "4\n"
          ],
          "name": "stdout"
        }
      ]
    },
    {
      "metadata": {
        "id": "rQYYo4H2Rct9",
        "colab_type": "text"
      },
      "cell_type": "markdown",
      "source": [
        "#### Generators for list comprehensions"
      ]
    },
    {
      "metadata": {
        "id": "IKOg5dUERgy5",
        "colab_type": "code",
        "outputId": "c75a6f68-83d8-40c4-bd44-10df13ff1fa7",
        "colab": {
          "base_uri": "https://localhost:8080/",
          "height": 54
        }
      },
      "cell_type": "code",
      "source": [
        "doubles = [2*n for n in range(20)]\n",
        "doubles"
      ],
      "execution_count": 0,
      "outputs": [
        {
          "output_type": "execute_result",
          "data": {
            "text/plain": [
              "[0, 2, 4, 6, 8, 10, 12, 14, 16, 18, 20, 22, 24, 26, 28, 30, 32, 34, 36, 38]"
            ]
          },
          "metadata": {
            "tags": []
          },
          "execution_count": 10
        }
      ]
    },
    {
      "metadata": {
        "id": "WYy8MAeNRmIB",
        "colab_type": "code",
        "outputId": "7ab43305-48a4-4bbb-d8ff-e948c877fd86",
        "colab": {
          "base_uri": "https://localhost:8080/",
          "height": 34
        }
      },
      "cell_type": "code",
      "source": [
        "doubles = (2 * n for n in range(20))\n",
        "doubles"
      ],
      "execution_count": 0,
      "outputs": [
        {
          "output_type": "execute_result",
          "data": {
            "text/plain": [
              "<generator object <genexpr> at 0x7f1a76272eb8>"
            ]
          },
          "metadata": {
            "tags": []
          },
          "execution_count": 11
        }
      ]
    },
    {
      "metadata": {
        "id": "AYpFKXAbRrWr",
        "colab_type": "code",
        "outputId": "236172a0-abdd-4445-eec8-cb29b52f9bde",
        "colab": {
          "base_uri": "https://localhost:8080/",
          "height": 54
        }
      },
      "cell_type": "code",
      "source": [
        "list(doubles)"
      ],
      "execution_count": 0,
      "outputs": [
        {
          "output_type": "execute_result",
          "data": {
            "text/plain": [
              "[0, 2, 4, 6, 8, 10, 12, 14, 16, 18, 20, 22, 24, 26, 28, 30, 32, 34, 36, 38]"
            ]
          },
          "metadata": {
            "tags": []
          },
          "execution_count": 12
        }
      ]
    }
  ]
}